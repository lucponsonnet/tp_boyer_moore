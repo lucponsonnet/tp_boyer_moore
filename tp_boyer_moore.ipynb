{
 "cells": [
  {
   "cell_type": "markdown",
   "metadata": {},
   "source": [
    "# TP informatique : application de l'algorithme de Boyer-Moore pour prédire la maladie de Huntington\n",
    "## 1. Algorithme de Boyer-Moore\n",
    "Voici pour rappel l'algorithme de **Boyer-Moore 1** qui transmet le premier rang à partir duquel le *motif* apparaît dans le *texte* (s'il est est présent dans le texte)."
   ]
  },
  {
   "cell_type": "code",
   "execution_count": null,
   "metadata": {},
   "outputs": [],
   "source": [
    "# Programme Boyer-Moore 1\n",
    "def table(motif) :\n",
    "    p=len(motif)\n",
    "    tab=[{ } for l in range(p)]\n",
    "    for j in range(p) :\n",
    "        for k in range(j) :\n",
    "            tab[j][motif[k]]=k\n",
    "    return tab\n",
    "\n",
    "def decalage(tab,j,lettre):\n",
    "    if lettre in tab[j]:\n",
    "        return j-tab[j][lettre]\n",
    "    else:\n",
    "        return j+1\n",
    "\n",
    "def rechercheBM(motif,texte):\n",
    "    tab=table(motif)\n",
    "    p=len(motif)\n",
    "    n=len(texte)\n",
    "    i=0\n",
    "    while i+p<=n:\n",
    "        d=0\n",
    "        for j in range(p-1,-1,-1):\n",
    "            if texte[i+j]!=motif[j]:\n",
    "                d=decalage(tab,j,texte[i+j])\n",
    "                break # l'instruction break fait stopper l'exécution de la boucle for\n",
    "        if d==0:\n",
    "            return \"le motif est présent en la position\",i\n",
    "        i=i+d\n",
    "    return \"Le motif n'est pas présent dans le brin d'adn\"\n",
    "\n",
    "print(rechercheBM(\"cgt\",\"acgtgccacgtacgt\"))"
   ]
  },
  {
   "cell_type": "markdown",
   "metadata": {},
   "source": [
    " <span style='color:blue'>**Question 1**</span> :\n",
    " exécuter le programme **Boyer-Moore 1** précédent, et expliquer dans la cellule texte suivante le résultat obtenu."
   ]
  },
  {
   "cell_type": "raw",
   "metadata": {},
   "source": []
  },
  {
   "cell_type": "markdown",
   "metadata": {},
   "source": [
    "Compléter les lignes 29 et 30 du programme suivant pour qu'il renvoie cette fois-ci le nombre de fois qu'apparaît le motif **\"cgt\"** dans le texte **\"acgtgccacgtacgt\"** ainsi que les rangs associés. Plus précisément la ligne 34 (  **print(rechercheBM(\"cgt\",\"acgtgccacgtacgt\"))**  ) du programme **Boyer-Moore 2** devra afficher : **(3, [1, 8, 12])**.\n"
   ]
  },
  {
   "cell_type": "code",
   "execution_count": null,
   "metadata": {},
   "outputs": [],
   "source": [
    "# Programme Boyer-Moore 2\n",
    "def table(motif) :\n",
    "    p=len(motif)\n",
    "    tab=[{ } for l in range(p)]\n",
    "    for j in range(p) :\n",
    "        for k in range(j) :\n",
    "            tab[j][motif[k]]=k\n",
    "    return tab\n",
    "\n",
    "def decalage(tab,j,lettre):\n",
    "    if lettre in tab[j]:\n",
    "        return j-tab[j][lettre]\n",
    "    else:\n",
    "        return j+1\n",
    "\n",
    "def rechercheBM(motif,texte):\n",
    "    tab=table(motif)\n",
    "    p=len(motif)\n",
    "    n=len(texte)\n",
    "    pos=[]\n",
    "    i=0\n",
    "    while i+p<=n:\n",
    "        d=0\n",
    "        for j in range(p-1,-1,-1):\n",
    "            if texte[i+j]!=motif[j]:\n",
    "                d=decalage(tab,j,texte[i+j])\n",
    "                break # l'instruction break fait stopper l'exécution de la boucle for\n",
    "        if d==0:\n",
    "            pos=pos+...\n",
    "            ...\n",
    "        i=i+d\n",
    "    return len(pos),pos\n",
    "\n",
    "print(rechercheBM(\"cgt\",\"acgtgccacgtacgt\"))"
   ]
  },
  {
   "cell_type": "markdown",
   "metadata": {},
   "source": [
    " <span style='color:blue'>**Question 2**</span> :\n",
    "que signifie d'ailleurs l'affichage : (3, [1, 8, 12]) ?"
   ]
  },
  {
   "cell_type": "markdown",
   "metadata": {},
   "source": [
    "## 2. Application du programme précédent à la maladie de Huntington\n",
    "### a) Quelques explications sur la transmission de la maladie\n",
    "\"*La transmission de la maladie de Huntington, maladie génétique, dépend d'informations “codées chimiquement” dans une substance appelée “acide déoxyribonucléique” ou ADN, dont sont constitués les gènes.*\n",
    "\n",
    "*Les molécules d'ADN sont formées de chaînes de quatre éléments appelés bases, à savoir A (adédine), T (thymine), G (guanine) et C (cytosine).*\n",
    "\n",
    "*La séquence des bases constitue un code déterminant le type de protéine produit par le gène et toute modification de cette séquence peut affecter le fonctionnement de la protéine codée.*\n",
    "\n",
    "*La maladie de Huntington est due à une anomalie (mutation) d'un gène, appelé IT15 (ou gène Huntington), lequel, situé sur le chromosome 4, code pour une protéine, la huntingtine, dont les fonctions physiologiques sont encore mal connues mais on sait que cette protéine joue un rôle important dans le développement et la survie neuronale.*\n",
    "\n",
    "*A l’état normal, cette protéine contient des répétitions d’un acide aminé, la glutamine ; répétitions CAG dont le nombre est inférieur ou égal à 26.*\n",
    "\n",
    "*La mutation consiste en une expansion anormale d’une répétition de triplets CAG (codon correspondant à la glutamine) et rend toxique la protéine huntingtine mutée.*\n",
    "\n",
    "*Ainsi, lorsqu'une personne a un gène huntingtin contenant un nombre de répétitions CAG supérieur ou égal à 40, celle-ci développera la maladie au cours de sa vie, et chacun de ses enfants aura un risque de 50% d'hériter du gène muté.\n",
    "Entre 27 (inclus) et 39 (inclus) répétitions CAG, on parle de zone grise.*\n",
    "\n",
    "***Qu'est-ce que la \"zone grise\" ?***\n",
    "\n",
    "*La signification clinique des résultats d'un test devient plus compliquée lorsque le gène huntingtin a un nombre de répétitions CAG compris entre 27 (inclus) et 39 (inclus) ; zone souvent décrite comme étant « la zone grise ».*\n",
    "\n",
    "*-Les allèles « intermédiaires » (de 27 à 35 répétitions CAG) :*\n",
    "\n",
    "*Lorsqu'un individu possède un « allèle intermédiaire » - une copie du gène ayant un nombre de répétitions CAG compris entre 27 (inclus) et 35 (inclus) - il ne sera pas affecté par la maladie mais il présente un risque de transmettre un nombre plus important de répétitions à ses enfants.*\n",
    "\n",
    "*-Les allèles « à pénétrance réduite » (de 36 à 39 répétitions CAG):*\n",
    "\n",
    "*Parmi les personnes ayant un gène huntingtin contenant un nombre de répétitions compris entre 36 (inclus) et 39 (inclus) – « pénétrance réduite » - certaines développeront la maladie, d'autres non.*\n",
    "\n",
    "*Malheureusement, il est impossible de prédire quelle personne avec un gène à « pénétrance réduite » développera ou non la maladie.*\n",
    "\n",
    "*Si des symptômes se manifestent, ils ont tendance à apparaître plus tard dans la vie et sont généralement moins sévères*\".\n",
    "\n",
    "[Lien vers le site](https://www.huntington-inforum.fr/index.php/la-maladie-de-huntington/24-transmission-diagnostic/8-la-transmission-le-diagnostic)\n",
    "\n",
    "### b) Lecture de gènes humains Huntington au format str\n",
    "Dans le dossier **tp_boyer_moore** qui se trouve sur la plateforme Github, vous trouverez trois fichiers **sujet1.txt**, **sujet2.txt**, **sujet3.txt** et **sujet4.txt** qui correspondent à quatre gènes Huntington IT15 de quatre humains (ou sujets), **sujet1**, **sujet2**, **sujet3** et **sujet4**. Voici par exemple le contenu du fichier **sujet1.txt** ouvert avec le Bloc-Notes :\n",
    "\n",
    "![image1](image1.png)\n",
    "\n",
    "Source des séquences ADN des gènes : \n",
    "[Lien vers le site](http://acces.ens-lyon.fr/acces/thematiques/evolution/logiciels/anagene/telechargement-enseignants-maj-2018)\n",
    "\n",
    "\n",
    " <span style='color:blue'>**Question 3**</span> :\n",
    "Tester le programme **Ouvrir** suivant, et expliquer son fonctionnement dans la cellule texte qui se trouve en dessous du programme **Ouvrir**. On précisera bien le rôle du slice **line[0:-1]**."
   ]
  },
  {
   "cell_type": "code",
   "execution_count": null,
   "metadata": {
    "scrolled": true
   },
   "outputs": [],
   "source": [
    "# Programme Ouvrir\n",
    "file = open(\"sujet1.txt\", \"r\")\n",
    "lines = file.readlines()\n",
    "file.close()\n",
    "texte=\"\"\n",
    "for line in lines:\n",
    "    texte=texte+line[0:-1]\n",
    "print(texte)"
   ]
  },
  {
   "cell_type": "markdown",
   "metadata": {},
   "source": [
    "Donner la réponse à la question 3, dans la cellule texte ci-après."
   ]
  },
  {
   "cell_type": "raw",
   "metadata": {},
   "source": []
  },
  {
   "cell_type": "markdown",
   "metadata": {},
   "source": [
    "### c) Utilisation du programme de Boyer-Moore\n",
    " <span style='color:blue'>**Question 4**</span> :\n",
    "en utilisant les programmes **Boyer-Moore 2** et **Ouvrir**, écrire en dessous le programme de **Boyer-Moore 3** qui vous permettra de dire quels sont les personnes parmi les sujets 1 à 4 qui seront successibles de contracter la maladie de Huntington dans les années à venir."
   ]
  },
  {
   "cell_type": "code",
   "execution_count": null,
   "metadata": {},
   "outputs": [],
   "source": [
    "# Boyer-Moore 3\n",
    "..."
   ]
  },
  {
   "cell_type": "markdown",
   "metadata": {},
   "source": [
    "Donner la réponse à la question 4, dans la cellule texte ci-après."
   ]
  },
  {
   "cell_type": "raw",
   "metadata": {},
   "source": []
  },
  {
   "cell_type": "markdown",
   "metadata": {},
   "source": [
    "## 3) Aspect historique, et mise en perspective\n",
    "### a) Qui sont Boyer et Moore ?\n",
    "Robert Stephen Boyer et J Strother Moore (La lettre J est son prénom et n'est pas une abréviation) ont inventé l'algorithme de recherche de chaînes de Boyer–Moore, un algorithme de recherche de chaînes particulièrement efficace, en 1977.\n",
    "\n",
    "\n",
    "* Robert Stephen Boyer : professeur retraité d'informatique, de mathématiques et de philosophie à l'Université du Texas à Austin \n",
    "\n",
    "![image2](image2.jpg)\n",
    "\n",
    "* J Strother Moore : professeur en informatique à l'université du Texas à Austin.\n",
    "\n",
    "![image3](image3.jpg)\n",
    "\n",
    "### b) 85 algorithmes de recherche textuelle\n",
    "Voici un lien qui Recense plus de 85 algorithmes différents de recherche textuelle, les plus célèbres datant des années 1970, mais plus de la moitié ont moins de 10 ans : \n",
    "\n",
    "[Lien vers le site](http://monge.univ-mlv.fr/~lecroq/string/)"
   ]
  }
 ],
 "metadata": {
  "kernelspec": {
   "display_name": "Python 3",
   "language": "python",
   "name": "python3"
  },
  "language_info": {
   "codemirror_mode": {
    "name": "ipython",
    "version": 3
   },
   "file_extension": ".py",
   "mimetype": "text/x-python",
   "name": "python",
   "nbconvert_exporter": "python",
   "pygments_lexer": "ipython3",
   "version": "3.8.5"
  }
 },
 "nbformat": 4,
 "nbformat_minor": 4
}
